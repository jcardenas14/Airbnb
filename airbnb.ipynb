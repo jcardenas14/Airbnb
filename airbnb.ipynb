{
 "cells": [
  {
   "cell_type": "code",
   "execution_count": 1,
   "metadata": {},
   "outputs": [],
   "source": [
    "import pandas as pd\n",
    "import numpy as np\n",
    "from datetime import date, datetime\n",
    "import matplotlib.pyplot as plt\n",
    "import seaborn as sns\n",
    "import nltk\n",
    "import ast\n",
    "from nltk.corpus import stopwords\n",
    "from nltk.tokenize import sent_tokenize, word_tokenize\n",
    "from sklearn.ensemble import RandomForestClassifier\n",
    "from sklearn.model_selection import KFold\n",
    "from sklearn.experimental import enable_iterative_imputer\n",
    "from sklearn.impute import IterativeImputer\n",
    "from sklearn.metrics import classification_report, roc_auc_score, confusion_matrix\n",
    "%matplotlib inline"
   ]
  },
  {
   "cell_type": "markdown",
   "metadata": {},
   "source": [
    "# Section I: Business Understanding\n",
    "Making your home available on Airbnb can be an intimidating prospect, particularly if you live in a large, hip city where you’re forced to compete against thousands of other listings. Such is the case in Austin, TX — a city consistently ranked among the top in the US and among the fastest growing, a city that is swiftly changing to accommodate the influx of technology, a city where *keeping it weird* is and will always be a higher calling, a city that is my hometown. Though I no longer live in Austin, when I came across the Airbnb data for the city, I was intrigued to take a deeper dive in. \n",
    "\n",
    "The primary question I’m setting out to answer:  \n",
    "**Which factors provide a home with a competitive edge?**\n",
    "\n",
    "To answer this, we need to choose the metric that defines the measure of a competitive/successful host. I chose to use Superhost status as the measure since it encompasses a number of important metrics such as customer reviews, number of reservations, and cancellation rate. We will build a model to see how well we can predict Superhost status and dive in to the most important predictive features.  \n",
    "\n",
    "Additionally, I want to answer some secondary questions related to basic exploratory analysis:  \n",
    "**Q1: How many total listings and hosts are there? How many hosts have multiple listings?**  \n",
    "**Q2: What is the breakdown of listings by type (e.g., entire home, private room, shared room, etc.)?**  \n",
    "**Q3: How available are the listings?**  \n",
    "**Q4: What is the average listing price and how does it compare across various neighborhoods?**"
   ]
  },
  {
   "cell_type": "markdown",
   "metadata": {},
   "source": [
    "# Section II: Data Understanding"
   ]
  },
  {
   "cell_type": "code",
   "execution_count": 2,
   "metadata": {},
   "outputs": [],
   "source": [
    "# List of stopwords (e.g., 'the', 'a', 'or', etc.)\n",
    "stopword = stopwords.words('english')"
   ]
  },
  {
   "cell_type": "markdown",
   "metadata": {},
   "source": [
    "## Import Data"
   ]
  },
  {
   "cell_type": "code",
   "execution_count": 3,
   "metadata": {},
   "outputs": [],
   "source": [
    "austin_calendar = pd.read_csv('Data/Austin/calendar.csv')\n",
    "austin_listings = pd.read_csv('Data/Austin/listings.csv')\n",
    "austin_reviews = pd.read_csv('Data/Austin/reviews.csv')"
   ]
  },
  {
   "cell_type": "code",
   "execution_count": 4,
   "metadata": {},
   "outputs": [
    {
     "data": {
      "text/html": [
       "<div>\n",
       "<style scoped>\n",
       "    .dataframe tbody tr th:only-of-type {\n",
       "        vertical-align: middle;\n",
       "    }\n",
       "\n",
       "    .dataframe tbody tr th {\n",
       "        vertical-align: top;\n",
       "    }\n",
       "\n",
       "    .dataframe thead th {\n",
       "        text-align: right;\n",
       "    }\n",
       "</style>\n",
       "<table border=\"1\" class=\"dataframe\">\n",
       "  <thead>\n",
       "    <tr style=\"text-align: right;\">\n",
       "      <th></th>\n",
       "      <th>listing_id</th>\n",
       "      <th>date</th>\n",
       "      <th>available</th>\n",
       "      <th>price</th>\n",
       "      <th>adjusted_price</th>\n",
       "      <th>minimum_nights</th>\n",
       "      <th>maximum_nights</th>\n",
       "    </tr>\n",
       "  </thead>\n",
       "  <tbody>\n",
       "    <tr>\n",
       "      <th>0</th>\n",
       "      <td>326172</td>\n",
       "      <td>2020-11-07</td>\n",
       "      <td>f</td>\n",
       "      <td>$95.00</td>\n",
       "      <td>$95.00</td>\n",
       "      <td>29.0</td>\n",
       "      <td>1125.0</td>\n",
       "    </tr>\n",
       "    <tr>\n",
       "      <th>1</th>\n",
       "      <td>329306</td>\n",
       "      <td>2020-11-07</td>\n",
       "      <td>f</td>\n",
       "      <td>$75.00</td>\n",
       "      <td>$75.00</td>\n",
       "      <td>2.0</td>\n",
       "      <td>1125.0</td>\n",
       "    </tr>\n",
       "    <tr>\n",
       "      <th>2</th>\n",
       "      <td>329306</td>\n",
       "      <td>2020-11-08</td>\n",
       "      <td>f</td>\n",
       "      <td>$75.00</td>\n",
       "      <td>$75.00</td>\n",
       "      <td>2.0</td>\n",
       "      <td>1125.0</td>\n",
       "    </tr>\n",
       "    <tr>\n",
       "      <th>3</th>\n",
       "      <td>329306</td>\n",
       "      <td>2020-11-09</td>\n",
       "      <td>f</td>\n",
       "      <td>$75.00</td>\n",
       "      <td>$75.00</td>\n",
       "      <td>2.0</td>\n",
       "      <td>1125.0</td>\n",
       "    </tr>\n",
       "    <tr>\n",
       "      <th>4</th>\n",
       "      <td>329306</td>\n",
       "      <td>2020-11-10</td>\n",
       "      <td>f</td>\n",
       "      <td>$75.00</td>\n",
       "      <td>$75.00</td>\n",
       "      <td>2.0</td>\n",
       "      <td>1125.0</td>\n",
       "    </tr>\n",
       "  </tbody>\n",
       "</table>\n",
       "</div>"
      ],
      "text/plain": [
       "   listing_id        date available   price adjusted_price  minimum_nights  \\\n",
       "0      326172  2020-11-07         f  $95.00         $95.00            29.0   \n",
       "1      329306  2020-11-07         f  $75.00         $75.00             2.0   \n",
       "2      329306  2020-11-08         f  $75.00         $75.00             2.0   \n",
       "3      329306  2020-11-09         f  $75.00         $75.00             2.0   \n",
       "4      329306  2020-11-10         f  $75.00         $75.00             2.0   \n",
       "\n",
       "   maximum_nights  \n",
       "0          1125.0  \n",
       "1          1125.0  \n",
       "2          1125.0  \n",
       "3          1125.0  \n",
       "4          1125.0  "
      ]
     },
     "execution_count": 4,
     "metadata": {},
     "output_type": "execute_result"
    }
   ],
   "source": [
    "austin_calendar.head()"
   ]
  },
  {
   "cell_type": "code",
   "execution_count": 5,
   "metadata": {},
   "outputs": [
    {
     "data": {
      "text/html": [
       "<div>\n",
       "<style scoped>\n",
       "    .dataframe tbody tr th:only-of-type {\n",
       "        vertical-align: middle;\n",
       "    }\n",
       "\n",
       "    .dataframe tbody tr th {\n",
       "        vertical-align: top;\n",
       "    }\n",
       "\n",
       "    .dataframe thead th {\n",
       "        text-align: right;\n",
       "    }\n",
       "</style>\n",
       "<table border=\"1\" class=\"dataframe\">\n",
       "  <thead>\n",
       "    <tr style=\"text-align: right;\">\n",
       "      <th></th>\n",
       "      <th>id</th>\n",
       "      <th>listing_url</th>\n",
       "      <th>scrape_id</th>\n",
       "      <th>last_scraped</th>\n",
       "      <th>name</th>\n",
       "      <th>description</th>\n",
       "      <th>neighborhood_overview</th>\n",
       "      <th>picture_url</th>\n",
       "      <th>host_id</th>\n",
       "      <th>host_url</th>\n",
       "      <th>...</th>\n",
       "      <th>review_scores_communication</th>\n",
       "      <th>review_scores_location</th>\n",
       "      <th>review_scores_value</th>\n",
       "      <th>license</th>\n",
       "      <th>instant_bookable</th>\n",
       "      <th>calculated_host_listings_count</th>\n",
       "      <th>calculated_host_listings_count_entire_homes</th>\n",
       "      <th>calculated_host_listings_count_private_rooms</th>\n",
       "      <th>calculated_host_listings_count_shared_rooms</th>\n",
       "      <th>reviews_per_month</th>\n",
       "    </tr>\n",
       "  </thead>\n",
       "  <tbody>\n",
       "    <tr>\n",
       "      <th>0</th>\n",
       "      <td>2265</td>\n",
       "      <td>https://www.airbnb.com/rooms/2265</td>\n",
       "      <td>20201107131938</td>\n",
       "      <td>2020-11-07</td>\n",
       "      <td>Zen-East in the Heart of Austin (monthly rental)</td>\n",
       "      <td>Zen East is situated in a vibrant &amp; diverse mu...</td>\n",
       "      <td>NaN</td>\n",
       "      <td>https://a0.muscache.com/pictures/4740524/63f82...</td>\n",
       "      <td>2466</td>\n",
       "      <td>https://www.airbnb.com/users/show/2466</td>\n",
       "      <td>...</td>\n",
       "      <td>10.0</td>\n",
       "      <td>8.0</td>\n",
       "      <td>9.0</td>\n",
       "      <td>NaN</td>\n",
       "      <td>f</td>\n",
       "      <td>3</td>\n",
       "      <td>2</td>\n",
       "      <td>1</td>\n",
       "      <td>0</td>\n",
       "      <td>0.17</td>\n",
       "    </tr>\n",
       "    <tr>\n",
       "      <th>1</th>\n",
       "      <td>5245</td>\n",
       "      <td>https://www.airbnb.com/rooms/5245</td>\n",
       "      <td>20201107131938</td>\n",
       "      <td>2020-11-07</td>\n",
       "      <td>Eco friendly, Colorful, Clean, Cozy monthly share</td>\n",
       "      <td>Situated in a vibrant &amp; diverse multicultural ...</td>\n",
       "      <td>NaN</td>\n",
       "      <td>https://a0.muscache.com/pictures/5167505/b33b5...</td>\n",
       "      <td>2466</td>\n",
       "      <td>https://www.airbnb.com/users/show/2466</td>\n",
       "      <td>...</td>\n",
       "      <td>9.0</td>\n",
       "      <td>10.0</td>\n",
       "      <td>9.0</td>\n",
       "      <td>NaN</td>\n",
       "      <td>f</td>\n",
       "      <td>3</td>\n",
       "      <td>2</td>\n",
       "      <td>1</td>\n",
       "      <td>0</td>\n",
       "      <td>0.06</td>\n",
       "    </tr>\n",
       "    <tr>\n",
       "      <th>2</th>\n",
       "      <td>5456</td>\n",
       "      <td>https://www.airbnb.com/rooms/5456</td>\n",
       "      <td>20201107131938</td>\n",
       "      <td>2020-11-07</td>\n",
       "      <td>Walk to 6th, Rainey St and Convention Ctr</td>\n",
       "      <td>Great central  location for walking to Convent...</td>\n",
       "      <td>My neighborhood is ideally located if you want...</td>\n",
       "      <td>https://a0.muscache.com/pictures/14084884/b5a3...</td>\n",
       "      <td>8028</td>\n",
       "      <td>https://www.airbnb.com/users/show/8028</td>\n",
       "      <td>...</td>\n",
       "      <td>10.0</td>\n",
       "      <td>10.0</td>\n",
       "      <td>10.0</td>\n",
       "      <td>NaN</td>\n",
       "      <td>f</td>\n",
       "      <td>1</td>\n",
       "      <td>1</td>\n",
       "      <td>0</td>\n",
       "      <td>0</td>\n",
       "      <td>3.78</td>\n",
       "    </tr>\n",
       "    <tr>\n",
       "      <th>3</th>\n",
       "      <td>5636</td>\n",
       "      <td>https://www.airbnb.com/rooms/5636</td>\n",
       "      <td>20201107131938</td>\n",
       "      <td>2020-11-07</td>\n",
       "      <td>Soco, Barton Springs Private Guest Cottage</td>\n",
       "      <td>MONTHLY Short Term &lt;br /&gt;Located in the awesom...</td>\n",
       "      <td>This area is one of the top areas in Austin to...</td>\n",
       "      <td>https://a0.muscache.com/pictures/17705/ef0b703...</td>\n",
       "      <td>7148</td>\n",
       "      <td>https://www.airbnb.com/users/show/7148</td>\n",
       "      <td>...</td>\n",
       "      <td>10.0</td>\n",
       "      <td>10.0</td>\n",
       "      <td>9.0</td>\n",
       "      <td>NaN</td>\n",
       "      <td>t</td>\n",
       "      <td>2</td>\n",
       "      <td>2</td>\n",
       "      <td>0</td>\n",
       "      <td>0</td>\n",
       "      <td>0.14</td>\n",
       "    </tr>\n",
       "    <tr>\n",
       "      <th>4</th>\n",
       "      <td>5769</td>\n",
       "      <td>https://www.airbnb.com/rooms/5769</td>\n",
       "      <td>20201107131938</td>\n",
       "      <td>2020-11-07</td>\n",
       "      <td>NW Austin Room</td>\n",
       "      <td>&lt;b&gt;The space&lt;/b&gt;&lt;br /&gt;Looking for a comfortabl...</td>\n",
       "      <td>Quiet neighborhood with lots of trees and good...</td>\n",
       "      <td>https://a0.muscache.com/pictures/23822033/ac94...</td>\n",
       "      <td>8186</td>\n",
       "      <td>https://www.airbnb.com/users/show/8186</td>\n",
       "      <td>...</td>\n",
       "      <td>10.0</td>\n",
       "      <td>10.0</td>\n",
       "      <td>10.0</td>\n",
       "      <td>NaN</td>\n",
       "      <td>f</td>\n",
       "      <td>1</td>\n",
       "      <td>0</td>\n",
       "      <td>1</td>\n",
       "      <td>0</td>\n",
       "      <td>2.00</td>\n",
       "    </tr>\n",
       "  </tbody>\n",
       "</table>\n",
       "<p>5 rows × 74 columns</p>\n",
       "</div>"
      ],
      "text/plain": [
       "     id                        listing_url       scrape_id last_scraped  \\\n",
       "0  2265  https://www.airbnb.com/rooms/2265  20201107131938   2020-11-07   \n",
       "1  5245  https://www.airbnb.com/rooms/5245  20201107131938   2020-11-07   \n",
       "2  5456  https://www.airbnb.com/rooms/5456  20201107131938   2020-11-07   \n",
       "3  5636  https://www.airbnb.com/rooms/5636  20201107131938   2020-11-07   \n",
       "4  5769  https://www.airbnb.com/rooms/5769  20201107131938   2020-11-07   \n",
       "\n",
       "                                                name  \\\n",
       "0   Zen-East in the Heart of Austin (monthly rental)   \n",
       "1  Eco friendly, Colorful, Clean, Cozy monthly share   \n",
       "2          Walk to 6th, Rainey St and Convention Ctr   \n",
       "3         Soco, Barton Springs Private Guest Cottage   \n",
       "4                                     NW Austin Room   \n",
       "\n",
       "                                         description  \\\n",
       "0  Zen East is situated in a vibrant & diverse mu...   \n",
       "1  Situated in a vibrant & diverse multicultural ...   \n",
       "2  Great central  location for walking to Convent...   \n",
       "3  MONTHLY Short Term <br />Located in the awesom...   \n",
       "4  <b>The space</b><br />Looking for a comfortabl...   \n",
       "\n",
       "                               neighborhood_overview  \\\n",
       "0                                                NaN   \n",
       "1                                                NaN   \n",
       "2  My neighborhood is ideally located if you want...   \n",
       "3  This area is one of the top areas in Austin to...   \n",
       "4  Quiet neighborhood with lots of trees and good...   \n",
       "\n",
       "                                         picture_url  host_id  \\\n",
       "0  https://a0.muscache.com/pictures/4740524/63f82...     2466   \n",
       "1  https://a0.muscache.com/pictures/5167505/b33b5...     2466   \n",
       "2  https://a0.muscache.com/pictures/14084884/b5a3...     8028   \n",
       "3  https://a0.muscache.com/pictures/17705/ef0b703...     7148   \n",
       "4  https://a0.muscache.com/pictures/23822033/ac94...     8186   \n",
       "\n",
       "                                 host_url  ... review_scores_communication  \\\n",
       "0  https://www.airbnb.com/users/show/2466  ...                        10.0   \n",
       "1  https://www.airbnb.com/users/show/2466  ...                         9.0   \n",
       "2  https://www.airbnb.com/users/show/8028  ...                        10.0   \n",
       "3  https://www.airbnb.com/users/show/7148  ...                        10.0   \n",
       "4  https://www.airbnb.com/users/show/8186  ...                        10.0   \n",
       "\n",
       "  review_scores_location review_scores_value license instant_bookable  \\\n",
       "0                    8.0                 9.0     NaN                f   \n",
       "1                   10.0                 9.0     NaN                f   \n",
       "2                   10.0                10.0     NaN                f   \n",
       "3                   10.0                 9.0     NaN                t   \n",
       "4                   10.0                10.0     NaN                f   \n",
       "\n",
       "  calculated_host_listings_count calculated_host_listings_count_entire_homes  \\\n",
       "0                              3                                           2   \n",
       "1                              3                                           2   \n",
       "2                              1                                           1   \n",
       "3                              2                                           2   \n",
       "4                              1                                           0   \n",
       "\n",
       "  calculated_host_listings_count_private_rooms  \\\n",
       "0                                            1   \n",
       "1                                            1   \n",
       "2                                            0   \n",
       "3                                            0   \n",
       "4                                            1   \n",
       "\n",
       "  calculated_host_listings_count_shared_rooms reviews_per_month  \n",
       "0                                           0              0.17  \n",
       "1                                           0              0.06  \n",
       "2                                           0              3.78  \n",
       "3                                           0              0.14  \n",
       "4                                           0              2.00  \n",
       "\n",
       "[5 rows x 74 columns]"
      ]
     },
     "execution_count": 5,
     "metadata": {},
     "output_type": "execute_result"
    }
   ],
   "source": [
    "austin_listings.head()"
   ]
  },
  {
   "cell_type": "code",
   "execution_count": 6,
   "metadata": {},
   "outputs": [
    {
     "data": {
      "text/html": [
       "<div>\n",
       "<style scoped>\n",
       "    .dataframe tbody tr th:only-of-type {\n",
       "        vertical-align: middle;\n",
       "    }\n",
       "\n",
       "    .dataframe tbody tr th {\n",
       "        vertical-align: top;\n",
       "    }\n",
       "\n",
       "    .dataframe thead th {\n",
       "        text-align: right;\n",
       "    }\n",
       "</style>\n",
       "<table border=\"1\" class=\"dataframe\">\n",
       "  <thead>\n",
       "    <tr style=\"text-align: right;\">\n",
       "      <th></th>\n",
       "      <th>listing_id</th>\n",
       "      <th>id</th>\n",
       "      <th>date</th>\n",
       "      <th>reviewer_id</th>\n",
       "      <th>reviewer_name</th>\n",
       "      <th>comments</th>\n",
       "    </tr>\n",
       "  </thead>\n",
       "  <tbody>\n",
       "    <tr>\n",
       "      <th>0</th>\n",
       "      <td>2265</td>\n",
       "      <td>963</td>\n",
       "      <td>2009-03-17</td>\n",
       "      <td>7538</td>\n",
       "      <td>Niall</td>\n",
       "      <td>I stayed here during SXSW and had a really ple...</td>\n",
       "    </tr>\n",
       "    <tr>\n",
       "      <th>1</th>\n",
       "      <td>2265</td>\n",
       "      <td>1057</td>\n",
       "      <td>2009-03-22</td>\n",
       "      <td>10029</td>\n",
       "      <td>Michael</td>\n",
       "      <td>Great place, close enough to everything downto...</td>\n",
       "    </tr>\n",
       "    <tr>\n",
       "      <th>2</th>\n",
       "      <td>2265</td>\n",
       "      <td>200418</td>\n",
       "      <td>2011-03-16</td>\n",
       "      <td>61677</td>\n",
       "      <td>Gustaf</td>\n",
       "      <td>We had a great time in Austin staying at Paddy...</td>\n",
       "    </tr>\n",
       "    <tr>\n",
       "      <th>3</th>\n",
       "      <td>2265</td>\n",
       "      <td>1001630</td>\n",
       "      <td>2012-03-15</td>\n",
       "      <td>1523753</td>\n",
       "      <td>Noah</td>\n",
       "      <td>We had a great stay at Zen East for South By S...</td>\n",
       "    </tr>\n",
       "    <tr>\n",
       "      <th>4</th>\n",
       "      <td>2265</td>\n",
       "      <td>1016390</td>\n",
       "      <td>2012-03-19</td>\n",
       "      <td>1547660</td>\n",
       "      <td>Melissa</td>\n",
       "      <td>I arrived late in the evening so did not meet ...</td>\n",
       "    </tr>\n",
       "  </tbody>\n",
       "</table>\n",
       "</div>"
      ],
      "text/plain": [
       "   listing_id       id        date  reviewer_id reviewer_name  \\\n",
       "0        2265      963  2009-03-17         7538         Niall   \n",
       "1        2265     1057  2009-03-22        10029       Michael   \n",
       "2        2265   200418  2011-03-16        61677        Gustaf   \n",
       "3        2265  1001630  2012-03-15      1523753          Noah   \n",
       "4        2265  1016390  2012-03-19      1547660       Melissa   \n",
       "\n",
       "                                            comments  \n",
       "0  I stayed here during SXSW and had a really ple...  \n",
       "1  Great place, close enough to everything downto...  \n",
       "2  We had a great time in Austin staying at Paddy...  \n",
       "3  We had a great stay at Zen East for South By S...  \n",
       "4  I arrived late in the evening so did not meet ...  "
      ]
     },
     "execution_count": 6,
     "metadata": {},
     "output_type": "execute_result"
    }
   ],
   "source": [
    "austin_reviews.head()"
   ]
  },
  {
   "cell_type": "markdown",
   "metadata": {},
   "source": [
    "## Clean Data"
   ]
  },
  {
   "cell_type": "markdown",
   "metadata": {},
   "source": [
    "#### Calendar data"
   ]
  },
  {
   "cell_type": "code",
   "execution_count": 7,
   "metadata": {},
   "outputs": [],
   "source": [
    "# Convert price/adjusted_price to numeric columns\n",
    "austin_calendar.price = austin_calendar.price.str.replace('$','')\n",
    "austin_calendar.adjusted_price = austin_calendar.adjusted_price.str.replace('$','')\n",
    "austin_calendar.price = pd.to_numeric(austin_calendar.price.str.replace(',',''))\n",
    "austin_calendar.adjusted_price = pd.to_numeric(austin_calendar.adjusted_price.str.replace(',',''))\n",
    "\n",
    "# replace t and f with True and False\n",
    "austin_calendar.replace('t', True, inplace=True)\n",
    "austin_calendar.replace('f', False, inplace=True)"
   ]
  },
  {
   "cell_type": "markdown",
   "metadata": {},
   "source": [
    "#### Listing data"
   ]
  },
  {
   "cell_type": "code",
   "execution_count": 8,
   "metadata": {},
   "outputs": [],
   "source": [
    "# remove columns with all NA\n",
    "austin_listings = austin_listings.dropna(axis=1, how='all')\n",
    "\n",
    "# drop columns with zero variability\n",
    "nunique = austin_listings.apply(pd.Series.nunique)\n",
    "cols_to_drop = nunique[nunique == 1].index\n",
    "austin_listings = austin_listings.drop(cols_to_drop, axis=1)\n",
    "\n",
    "# convert price to numeric\n",
    "austin_listings.price = austin_listings.price.str.replace('$','')\n",
    "austin_listings.price = pd.to_numeric(austin_listings.price.str.replace(',',''))\n",
    "\n",
    "# convert rates to numeric\n",
    "austin_listings.host_response_rate = pd.to_numeric(austin_listings.host_response_rate.str.replace('%',''))/100\n",
    "austin_listings.host_acceptance_rate = pd.to_numeric(austin_listings.host_acceptance_rate.str.replace('%',''))/100\n",
    "\n",
    "# convert id and zipcode columns to categorical columns\n",
    "austin_listings.id = austin_listings.id.astype('object')\n",
    "austin_listings.host_id = austin_listings.host_id.astype('object')\n",
    "austin_listings.neighbourhood_cleansed = austin_listings.neighbourhood_cleansed.astype('object')\n",
    "austin_listings.rename(columns={'neighbourhood_cleansed':'zipcode'}, inplace=True)\n",
    "\n",
    "# create new zipcode column\n",
    "zips_to_replace = austin_listings.zipcode.value_counts().index[austin_listings.zipcode.value_counts() < 100].tolist()\n",
    "austin_listings['zipcode2'] = austin_listings.zipcode.replace(to_replace=zips_to_replace, value='Other')\n",
    "\n",
    "# remove url & last scraped columns\n",
    "url_cols = austin_listings.filter(regex='url|last_scraped').columns\n",
    "austin_listings = austin_listings.drop(url_cols, axis=1)\n",
    "\n",
    "# replace t and f with True and False\n",
    "austin_listings.replace('t', True, inplace=True)\n",
    "austin_listings.replace('f', False, inplace=True)\n",
    "\n",
    "# rename columns\n",
    "austin_listings.rename(columns={'id':'listing_id'}, inplace=True)"
   ]
  },
  {
   "cell_type": "markdown",
   "metadata": {},
   "source": [
    "## Feature Engineering"
   ]
  },
  {
   "cell_type": "markdown",
   "metadata": {},
   "source": [
    "Before jumping into model building, I performed feature engineering to create the following predictors:\n",
    "1. **description_length** - This is simply the number of words the host used to describe the listing. I used to Python's NLTK library to process the data.\n",
    "2. **neighborhood_overview_length** - Same as above, except it's the number of words used to describe the listing's neighborhood.\n",
    "3. **amenities_length** - Number of amenities listed\n",
    "4. **dist_from_downtown** - I used the latitude and longitude data provided to calculate the distance the listing is from downtown Austin in miles.\n",
    "5. **available_perc** - Calculated this from a column that is True if the listing is available and False otherwise.\n",
    "6. **Multi_listing** - Created a True/False column if the host had more than one listing\n",
    "7. **host_yrs** - I created this from the host_since column, which lists the date a host became a host\n",
    "8. **host_yrs_cat** - Categorical/binned version of host_yrs\n",
    "9. **bathrooms_cat** - Categorical/binned version of bathrooms"
   ]
  },
  {
   "cell_type": "markdown",
   "metadata": {},
   "source": [
    "#### Convert latitude/longitude into distance metric"
   ]
  },
  {
   "cell_type": "code",
   "execution_count": 9,
   "metadata": {},
   "outputs": [],
   "source": [
    "# Define downtown Austin latitude and longitude point\n",
    "austin_listings['downtown_latitude'] = 30.2729\n",
    "austin_listings['downtown_longitude'] = -97.7444"
   ]
  },
  {
   "cell_type": "code",
   "execution_count": 10,
   "metadata": {},
   "outputs": [],
   "source": [
    "# function to convert distance between two latitude/longitude points into miles\n",
    "def lat_long_to_miles(lat1, long1, lat2, long2):\n",
    "    \"\"\"Return distance in miles between two points, given latitude/longitude.\"\"\"\n",
    "    lat1 = lat1/(180/np.pi)\n",
    "    long1 = long1/(180/np.pi)\n",
    "    lat2 = lat2/(180/np.pi)\n",
    "    long2 = long2/(180/np.pi)\n",
    "    d = 3963.0 * np.arccos((np.sin(lat1) * np.sin(lat2)) + np.cos(lat1) * np.cos(lat2) * np.cos(long2 - long1))\n",
    "    return d\n",
    "\n",
    "# vectorize so I can apply to columns in DataFrame\n",
    "lat_long_to_miles = np.vectorize(lat_long_to_miles)"
   ]
  },
  {
   "cell_type": "code",
   "execution_count": 11,
   "metadata": {},
   "outputs": [],
   "source": [
    "# add distance from each listing to downtown\n",
    "austin_listings['dist_from_downtown'] = lat_long_to_miles(austin_listings.latitude, austin_listings.longitude, \n",
    "                                                          austin_listings.downtown_latitude, austin_listings.downtown_longitude)"
   ]
  },
  {
   "cell_type": "code",
   "execution_count": 12,
   "metadata": {},
   "outputs": [],
   "source": [
    "# remove latitude/longitude columns from DataFrame\n",
    "lat_long_cols = austin_listings.filter(regex='latitude|longitude').columns\n",
    "austin_listings = austin_listings.drop(lat_long_cols, axis=1)"
   ]
  },
  {
   "cell_type": "markdown",
   "metadata": {},
   "source": [
    "#### Years as host"
   ]
  },
  {
   "cell_type": "code",
   "execution_count": 13,
   "metadata": {},
   "outputs": [],
   "source": [
    "# create numeric column listing number of years as host\n",
    "austin_listings['today'] = datetime.today()\n",
    "austin_listings['host_since'] = pd.to_datetime(austin_listings.host_since)\n",
    "austin_listings['host_yrs'] = (austin_listings.today-austin_listings.host_since)\n",
    "austin_listings['host_yrs'] = austin_listings['host_yrs'].apply(lambda x: x.days)/365\n",
    "\n",
    "# create categorical version via binning\n",
    "austin_listings['host_yrs_cat'] = pd.cut(austin_listings.host_yrs, bins=[0,3,5,7,9,11,13])"
   ]
  },
  {
   "cell_type": "markdown",
   "metadata": {},
   "source": [
    "#### Host Multi-listing"
   ]
  },
  {
   "cell_type": "code",
   "execution_count": 14,
   "metadata": {},
   "outputs": [],
   "source": [
    "# create bool columns denoting if a host has more than 1 or more than 2 listings\n",
    "austin_listings['Multi_listing'] = [True if x > 1 else False for x in austin_listings.calculated_host_listings_count]\n",
    "austin_listings['More_than_2_listings'] = [True if x > 2 else False for x in austin_listings.calculated_host_listings_count]"
   ]
  },
  {
   "cell_type": "markdown",
   "metadata": {},
   "source": [
    "#### Number of words in listing description, neighborhood description, and number of amenities"
   ]
  },
  {
   "cell_type": "code",
   "execution_count": 15,
   "metadata": {},
   "outputs": [],
   "source": [
    "# define function to process text\n",
    "def process_text(text, stopword):\n",
    "    \"\"\"Return list of tokenized words with stopwords removed.\"\"\"\n",
    "    text = word_tokenize(str(text).lower())\n",
    "    text = [word for word in text if word not in stopword and word.isalpha()]\n",
    "    return text"
   ]
  },
  {
   "cell_type": "code",
   "execution_count": 16,
   "metadata": {},
   "outputs": [],
   "source": [
    "# count number of words in listing/neighborhood description and number of amenities listed\n",
    "austin_listings['description_length'] = austin_listings.description.apply(process_text, stopword = stopword).apply(list).apply(len)\n",
    "austin_listings['neighborhood_overview_length'] = austin_listings.neighborhood_overview.apply(process_text, stopword = stopword).apply(list).apply(len)\n",
    "austin_listings['amenities_length'] = austin_listings.amenities.apply(ast.literal_eval).apply(len)"
   ]
  },
  {
   "cell_type": "markdown",
   "metadata": {},
   "source": [
    "#### Listing Availability"
   ]
  },
  {
   "cell_type": "code",
   "execution_count": 17,
   "metadata": {},
   "outputs": [],
   "source": [
    "# join calendar and listing data\n",
    "austin_cal_list = austin_calendar.merge(austin_listings, how='inner', on='listing_id')"
   ]
  },
  {
   "cell_type": "code",
   "execution_count": 18,
   "metadata": {},
   "outputs": [],
   "source": [
    "# add available_perc to austin_listings data\n",
    "availability_perc = austin_cal_list.groupby('listing_id')['available'].mean().reset_index().rename(columns={'available':'available_perc'})\n",
    "austin_cal_list = austin_cal_list.merge(availability_perc, on = 'listing_id')\n",
    "austin_listings = austin_listings.merge(availability_perc, on = 'listing_id')"
   ]
  },
  {
   "cell_type": "markdown",
   "metadata": {},
   "source": [
    "#### Bathrooms"
   ]
  },
  {
   "cell_type": "code",
   "execution_count": 19,
   "metadata": {},
   "outputs": [],
   "source": [
    "# clean up bathroom data - fill NA with 'missing'\n",
    "austin_listings.bathrooms_text = austin_listings.bathrooms_text.fillna('missing')\n",
    "\n",
    "# remove text (e.g. 'shared baths', 'bath', 'private')\n",
    "austin_listings['bathrooms'] = austin_listings.bathrooms_text.replace(regex=' shared baths| shared bath| baths| bath| private', value='')\n",
    "austin_listings.bathrooms = austin_listings.bathrooms.replace(regex='Half-bath|Private half-bath', value='.5')\n",
    "\n",
    "# replace 'missing' with -1 to make numeric\n",
    "austin_listings.bathrooms = austin_listings.bathrooms.replace(regex='missing', value='-1').astype('float')\n",
    "\n",
    "# create binning for bathrooms\n",
    "austin_listings['bathrooms_cat'] = pd.cut(austin_listings.bathrooms, bins = [0,2,4,20], include_lowest=True).astype(str)\n",
    "austin_listings.bathrooms_cat = austin_listings.bathrooms_cat.replace('(-0.001, 2.0]', '0-2').replace('(2.0, 4.0]', '2-4').replace('(4.0, 20.0]', '> 4')"
   ]
  },
  {
   "cell_type": "markdown",
   "metadata": {},
   "source": [
    "## Lay of the Land"
   ]
  },
  {
   "cell_type": "markdown",
   "metadata": {},
   "source": [
    "Below, I look at some basic summaries of the data. I wanted to get an idea of the following metrics:\n",
    "1. Total number of listings, hosts, and hosts with multiple listings\n",
    "2. Breakdown of listings by type\n",
    "3. Listing availability: what % of days out of the year is a listing available?\n",
    "4. Distribution of listing price by neighborhood (ZIP code)"
   ]
  },
  {
   "cell_type": "markdown",
   "metadata": {},
   "source": [
    "#### Breakdown of listings, hosts, and hosts with multiple listings"
   ]
  },
  {
   "cell_type": "markdown",
   "metadata": {},
   "source": [
    "The table and figure below shows the total number of listings, total number of hosts, number of hosts with more than 1 listing, and number of hosts with more than two listings. Roughly 16% of hosts have more than 1 listing and 6% have more than 2 listings. The percentage of hosts with multiple listings is more than I expected. It would be interesting to see how this number compares with other large cities, but I will leave comparisons with other cities for another day."
   ]
  },
  {
   "cell_type": "code",
   "execution_count": 20,
   "metadata": {},
   "outputs": [
    {
     "data": {
      "text/html": [
       "<style  type=\"text/css\" >\n",
       "    #T_223b6498_4d2d_11eb_82c1_a1f78f542c08row0_col0 {\n",
       "            text-align:  left;\n",
       "        }    #T_223b6498_4d2d_11eb_82c1_a1f78f542c08row0_col1 {\n",
       "            text-align:  left;\n",
       "        }    #T_223b6498_4d2d_11eb_82c1_a1f78f542c08row1_col0 {\n",
       "            text-align:  left;\n",
       "        }    #T_223b6498_4d2d_11eb_82c1_a1f78f542c08row1_col1 {\n",
       "            text-align:  left;\n",
       "        }    #T_223b6498_4d2d_11eb_82c1_a1f78f542c08row2_col0 {\n",
       "            text-align:  left;\n",
       "        }    #T_223b6498_4d2d_11eb_82c1_a1f78f542c08row2_col1 {\n",
       "            text-align:  left;\n",
       "        }    #T_223b6498_4d2d_11eb_82c1_a1f78f542c08row3_col0 {\n",
       "            text-align:  left;\n",
       "        }    #T_223b6498_4d2d_11eb_82c1_a1f78f542c08row3_col1 {\n",
       "            text-align:  left;\n",
       "        }</style><table id=\"T_223b6498_4d2d_11eb_82c1_a1f78f542c08\" ><thead>    <tr>        <th class=\"blank level0\" ></th>        <th class=\"col_heading level0 col0\" ></th>        <th class=\"col_heading level0 col1\" >count</th>    </tr></thead><tbody>\n",
       "                <tr>\n",
       "                        <th id=\"T_223b6498_4d2d_11eb_82c1_a1f78f542c08level0_row0\" class=\"row_heading level0 row0\" >0</th>\n",
       "                        <td id=\"T_223b6498_4d2d_11eb_82c1_a1f78f542c08row0_col0\" class=\"data row0 col0\" >Total Listings</td>\n",
       "                        <td id=\"T_223b6498_4d2d_11eb_82c1_a1f78f542c08row0_col1\" class=\"data row0 col1\" >10450</td>\n",
       "            </tr>\n",
       "            <tr>\n",
       "                        <th id=\"T_223b6498_4d2d_11eb_82c1_a1f78f542c08level0_row1\" class=\"row_heading level0 row1\" >1</th>\n",
       "                        <td id=\"T_223b6498_4d2d_11eb_82c1_a1f78f542c08row1_col0\" class=\"data row1 col0\" >Number of Hosts</td>\n",
       "                        <td id=\"T_223b6498_4d2d_11eb_82c1_a1f78f542c08row1_col1\" class=\"data row1 col1\" >6807</td>\n",
       "            </tr>\n",
       "            <tr>\n",
       "                        <th id=\"T_223b6498_4d2d_11eb_82c1_a1f78f542c08level0_row2\" class=\"row_heading level0 row2\" >2</th>\n",
       "                        <td id=\"T_223b6498_4d2d_11eb_82c1_a1f78f542c08row2_col0\" class=\"data row2 col0\" >Hosts with > 1 listing</td>\n",
       "                        <td id=\"T_223b6498_4d2d_11eb_82c1_a1f78f542c08row2_col1\" class=\"data row2 col1\" >1120</td>\n",
       "            </tr>\n",
       "            <tr>\n",
       "                        <th id=\"T_223b6498_4d2d_11eb_82c1_a1f78f542c08level0_row3\" class=\"row_heading level0 row3\" >3</th>\n",
       "                        <td id=\"T_223b6498_4d2d_11eb_82c1_a1f78f542c08row3_col0\" class=\"data row3 col0\" >Hosts with > 2 listings</td>\n",
       "                        <td id=\"T_223b6498_4d2d_11eb_82c1_a1f78f542c08row3_col1\" class=\"data row3 col1\" >438</td>\n",
       "            </tr>\n",
       "    </tbody></table>"
      ],
      "text/plain": [
       "<pandas.io.formats.style.Styler at 0x17e56cb47f0>"
      ]
     },
     "execution_count": 20,
     "metadata": {},
     "output_type": "execute_result"
    }
   ],
   "source": [
    "host_listings = austin_listings[['host_id','Multi_listing','More_than_2_listings']].drop_duplicates()\n",
    "listing_stats = pd.Series({'Total Listings':austin_listings.shape[0], 'Number of Hosts':len(austin_listings.host_id.value_counts()),\n",
    "                           'Hosts with > 1 listing':np.sum(host_listings.Multi_listing), \n",
    "                           'Hosts with > 2 listings':np.sum(host_listings.More_than_2_listings)})\n",
    "listing_stats = listing_stats.reset_index().rename(columns={'index':'',0:'count'})\n",
    "listing_stats.style.set_properties(**{'text-align': 'left'})"
   ]
  },
  {
   "cell_type": "code",
   "execution_count": 21,
   "metadata": {},
   "outputs": [
    {
     "data": {
      "image/png": "[encoded data removed]",
      "text/plain": [
       "<Figure size 648x468 with 1 Axes>"
      ]
     },
     "metadata": {
      "needs_background": "light"
     },
     "output_type": "display_data"
    }
   ],
   "source": [
    "plt.figure(figsize=(9, 6.5))\n",
    "g=sns.barplot(data=listing_stats, x='', y='count')\n",
    "for p in g.patches:\n",
    "    g.annotate(format(p.get_height(), '.0f'), \n",
    "               (p.get_x() + p.get_width() / 2., p.get_height()), \n",
    "               ha = 'center', va = 'center', \n",
    "               xytext = (0, 9), \n",
    "               textcoords = 'offset points')"
   ]
  },
  {
   "cell_type": "markdown",
   "metadata": {},
   "source": [
    "#### Breakdown of listings by type\n",
    "The table and figure below shows the breakdown of listings by type: entire home/apt, private room, shared room, or hotel room.The vast majority of listings, nearly 80%, are for the entire home or apartment, followed by 20% for private rooms. I wasn’t surprised that less than 1.5% of listings were for shared rooms and hotel rooms, especially during the Covid-19 pandemic. It would be interesting to see if this number significantly dropped from 2019."
   ]
  },
  {
   "cell_type": "code",
   "execution_count": 22,
   "metadata": {},
   "outputs": [],
   "source": [
    "room_type_percent = austin_listings.room_type.value_counts(normalize=True).reset_index().rename(columns={'index':'listing','room_type':'percentage'})\n",
    "room_type_percent.percentage = room_type_percent.percentage*100\n",
    "room_type_count = austin_listings.room_type.value_counts().reset_index().rename(columns={'index':'listing','room_type':'count'})\n",
    "room_type_summary = room_type_count.merge(room_type_percent, on = 'listing')"
   ]
  },
  {
   "cell_type": "code",
   "execution_count": 23,
   "metadata": {},
   "outputs": [
    {
     "data": {
      "text/html": [
       "<div>\n",
       "<style scoped>\n",
       "    .dataframe tbody tr th:only-of-type {\n",
       "        vertical-align: middle;\n",
       "    }\n",
       "\n",
       "    .dataframe tbody tr th {\n",
       "        vertical-align: top;\n",
       "    }\n",
       "\n",
       "    .dataframe thead th {\n",
       "        text-align: right;\n",
       "    }\n",
       "</style>\n",
       "<table border=\"1\" class=\"dataframe\">\n",
       "  <thead>\n",
       "    <tr style=\"text-align: right;\">\n",
       "      <th></th>\n",
       "      <th>listing</th>\n",
       "      <th>count</th>\n",
       "      <th>percentage</th>\n",
       "    </tr>\n",
       "  </thead>\n",
       "  <tbody>\n",
       "    <tr>\n",
       "      <th>0</th>\n",
       "      <td>Entire home/apt</td>\n",
       "      <td>8148</td>\n",
       "      <td>77.97</td>\n",
       "    </tr>\n",
       "    <tr>\n",
       "      <th>1</th>\n",
       "      <td>Private room</td>\n",
       "      <td>2159</td>\n",
       "      <td>20.66</td>\n",
       "    </tr>\n",
       "    <tr>\n",
       "      <th>2</th>\n",
       "      <td>Shared room</td>\n",
       "      <td>130</td>\n",
       "      <td>1.24</td>\n",
       "    </tr>\n",
       "    <tr>\n",
       "      <th>3</th>\n",
       "      <td>Hotel room</td>\n",
       "      <td>13</td>\n",
       "      <td>0.12</td>\n",
       "    </tr>\n",
       "  </tbody>\n",
       "</table>\n",
       "</div>"
      ],
      "text/plain": [
       "           listing  count  percentage\n",
       "0  Entire home/apt   8148       77.97\n",
       "1     Private room   2159       20.66\n",
       "2      Shared room    130        1.24\n",
       "3       Hotel room     13        0.12"
      ]
     },
     "execution_count": 23,
     "metadata": {},
     "output_type": "execute_result"
    }
   ],
   "source": [
    "room_type_summary.round(decimals=2)"
   ]
  },
  {
   "cell_type": "code",
   "execution_count": 24,
   "metadata": {},
   "outputs": [
    {
     "data": {
      "image/png": "[encoded data removed]",
      "text/plain": [
       "<Figure size 432x288 with 1 Axes>"
      ]
     },
     "metadata": {
      "needs_background": "light"
     },
     "output_type": "display_data"
    }
   ],
   "source": [
    "# listing type\n",
    "g=sns.catplot(data=room_type_summary, x='listing', y='percentage', kind='bar', height = 4, aspect=1.5)\n",
    "g.set_axis_labels(\"\");"
   ]
  },
  {
   "cell_type": "markdown",
   "metadata": {},
   "source": [
    "#### Listing Availability\n",
    "The histogram below shows the number of listings available for various percentage of nights throughout the year. On average, listings are available for booking approximately 135 nights (37%) out of the year. Around 35% of listings have no availability over the course of the next year, either because they are already fully booked or because the host has taken it off the market. On the flip side, around 13% of listings are available over 95% of nights out of the year. This high availability suggests that the average Airbnb host in Austin most likely doesn’t live at their listing."
   ]
  },
  {
   "cell_type": "code",
   "execution_count": 25,
   "metadata": {},
   "outputs": [
    {
     "data": {
      "image/png": "[encoded data removed]",
      "text/plain": [
       "<Figure size 576x288 with 1 Axes>"
      ]
     },
     "metadata": {
      "needs_background": "light"
     },
     "output_type": "display_data"
    }
   ],
   "source": [
    "plt.figure(figsize=(8,4)) \n",
    "fig = sns.distplot(austin_listings.available_perc*100, kde=False)\n",
    "fig.set(xlabel='Availability %', ylabel='Number of Listings');"
   ]
  },
  {
   "cell_type": "code",
   "execution_count": 26,
   "metadata": {},
   "outputs": [],
   "source": [
    "average_availability = austin_listings.available_perc.mean()\n",
    "no_availability = np.sum(austin_listings.available_perc == 0)/austin_listings.shape[0]\n",
    "over_95perc_availability = np.sum(austin_listings.available_perc > .95)/austin_listings.shape[0]"
   ]
  },
  {
   "cell_type": "code",
   "execution_count": 27,
   "metadata": {},
   "outputs": [
    {
     "data": {
      "text/plain": [
       "0.3746438209317951"
      ]
     },
     "execution_count": 27,
     "metadata": {},
     "output_type": "execute_result"
    }
   ],
   "source": [
    "average_availability"
   ]
  },
  {
   "cell_type": "code",
   "execution_count": 28,
   "metadata": {},
   "outputs": [
    {
     "data": {
      "text/plain": [
       "0.3526315789473684"
      ]
     },
     "execution_count": 28,
     "metadata": {},
     "output_type": "execute_result"
    }
   ],
   "source": [
    "no_availability"
   ]
  },
  {
   "cell_type": "code",
   "execution_count": 29,
   "metadata": {},
   "outputs": [
    {
     "data": {
      "text/plain": [
       "0.13330143540669856"
      ]
     },
     "execution_count": 29,
     "metadata": {},
     "output_type": "execute_result"
    }
   ],
   "source": [
    "over_95perc_availability"
   ]
  },
  {
   "cell_type": "markdown",
   "metadata": {},
   "source": [
    "#### Listing price by neighborhood\n",
    "The boxplot below shows the price distribution for listings in each Zip Code. I plotted price on the Y-axis on the log10 scale so that the differences in distribution would be more clearly seen. The average listing price is \\\\$267 per night, while the median listing price is significantly lower at \\\\$130. This makes sense given the price distribution, where a good number of homes are listed for more \\\\$1K and some are \\\\$10K+, driving the average up. Median listing prices by ZIP code range from \\\\$60 in 78725, which is on the far east side of Austin near the airport, to \\\\$437 in 78732, which is in the hill country and near the lake — surprise!"
   ]
  },
  {
   "cell_type": "code",
   "execution_count": 30,
   "metadata": {},
   "outputs": [],
   "source": [
    "avg_price_zip_summary = austin_listings.groupby('zipcode')['price'].median().reset_index().sort_values('price', ascending=False)"
   ]
  },
  {
   "cell_type": "code",
   "execution_count": 31,
   "metadata": {},
   "outputs": [
    {
     "data": {
      "image/png": "[encoded data removed]",
      "text/plain": [
       "<Figure size 864x288 with 1 Axes>"
      ]
     },
     "metadata": {
      "needs_background": "light"
     },
     "output_type": "display_data"
    }
   ],
   "source": [
    "g = sns.catplot(data=austin_listings, x='zipcode', y='price', color='orange', kind='box', \n",
    "                order=avg_price_zip_summary.zipcode, height=4, aspect=3)\n",
    "g.set_xticklabels(rotation=45)\n",
    "g.set(yscale=\"log\", xlabel='', ylabel = 'log price');"
   ]
  },
  {
   "cell_type": "markdown",
   "metadata": {},
   "source": [
    "# Section III: Modeling"
   ]
  },
  {
   "cell_type": "markdown",
   "metadata": {},
   "source": [
    "## Can we predict Superhost status?"
   ]
  },
  {
   "cell_type": "markdown",
   "metadata": {},
   "source": [
    "As a measure for how successful a host is, Superhost status encompasses the important metrics - customer reviews, number of reservations, cancellation rate, etc. If we use all the data that is available to us, I will not pretend that achieving high prediction accuracy for whether a host is a Superhost is impressive. Why? Because the requirements are straightforward and any human with access to that information should be able to achieve 100% accuracy. So to make our problem interesting and more useful, I excluded data related to reviews from the classification algorithm.\n",
    "\n",
    "Below is a summary of the key steps I took to get the data ready for modeling:\n",
    "1. Filter out unuseful or redundant predictors, including data related to reviews\n",
    "2. Drop rows with missing Superhost status\n",
    "3. One-hot encode categorical predictors\n",
    "4. Remove predictors with zero or low variability\n",
    "5. Collapse data to include only one row for each host\n",
    "6. Convert DataFrames into numpy arrays for sklearn compatibility\n",
    "7. Run 5-fold CV and measure average performance\n",
    "8. Impute missing values on full dataset\n",
    "9. Fit final model on full dataset\n",
    "10. Calculate feature importance and plot ranked predictors"
   ]
  },
  {
   "cell_type": "markdown",
   "metadata": {},
   "source": [
    "#### Filter out unuseful/redundant predictors"
   ]
  },
  {
   "cell_type": "markdown",
   "metadata": {},
   "source": [
    "I removed columns that clearly don't have predictive power such as 'listing_id', 'name', 'host_id', 'host_name', etc. I also removed columns with raw text since I decided not to dig too deeply into NLP here (outside of counting the number of words for listing/neighborhood descriptions). As I have already mentioned, I removed columns related to customer reviews."
   ]
  },
  {
   "cell_type": "markdown",
   "metadata": {},
   "source": [
    "The correlation heatmap below gives a quick picture of highly correlated predictors. I removed redundant predictors; for example, I only kept 'maximum_nights' and 'minimum_nights' but removed all other highly correlated variations such as 'maximum_minimum_nights'.  "
   ]
  },
  {
   "cell_type": "code",
   "execution_count": 32,
   "metadata": {},
   "outputs": [
    {
     "data": {
      "image/png": "[encoded data removed]",
      "text/plain": [
       "<Figure size 1080x1080 with 4 Axes>"
      ]
     },
     "metadata": {
      "needs_background": "light"
     },
     "output_type": "display_data"
    }
   ],
   "source": [
    "sns.clustermap(austin_listings.corr(), figsize = (15,15));"
   ]
  },
  {
   "cell_type": "code",
   "execution_count": 33,
   "metadata": {},
   "outputs": [
    {
     "data": {
      "text/plain": [
       "Index(['listing_id', 'name', 'description', 'neighborhood_overview', 'host_id',\n",
       "       'host_name', 'host_since', 'host_location', 'host_about',\n",
       "       'host_response_time', 'host_response_rate', 'host_acceptance_rate',\n",
       "       'host_is_superhost', 'host_neighbourhood', 'host_listings_count',\n",
       "       'host_total_listings_count', 'host_verifications',\n",
       "       'host_has_profile_pic', 'host_identity_verified', 'neighbourhood',\n",
       "       'zipcode', 'property_type', 'room_type', 'accommodates',\n",
       "       'bathrooms_text', 'bedrooms', 'beds', 'amenities', 'price',\n",
       "       'minimum_nights', 'maximum_nights', 'minimum_minimum_nights',\n",
       "       'maximum_minimum_nights', 'minimum_maximum_nights',\n",
       "       'maximum_maximum_nights', 'minimum_nights_avg_ntm',\n",
       "       'maximum_nights_avg_ntm', 'availability_30', 'availability_60',\n",
       "       'availability_90', 'availability_365', 'number_of_reviews',\n",
       "       'number_of_reviews_ltm', 'number_of_reviews_l30d', 'first_review',\n",
       "       'last_review', 'review_scores_rating', 'review_scores_accuracy',\n",
       "       'review_scores_cleanliness', 'review_scores_checkin',\n",
       "       'review_scores_communication', 'review_scores_location',\n",
       "       'review_scores_value', 'instant_bookable',\n",
       "       'calculated_host_listings_count',\n",
       "       'calculated_host_listings_count_entire_homes',\n",
       "       'calculated_host_listings_count_private_rooms',\n",
       "       'calculated_host_listings_count_shared_rooms', 'reviews_per_month',\n",
       "       'zipcode2', 'dist_from_downtown', 'today', 'host_yrs', 'host_yrs_cat',\n",
       "       'Multi_listing', 'More_than_2_listings', 'description_length',\n",
       "       'neighborhood_overview_length', 'amenities_length', 'available_perc',\n",
       "       'bathrooms', 'bathrooms_cat'],\n",
       "      dtype='object')"
      ]
     },
     "execution_count": 33,
     "metadata": {},
     "output_type": "execute_result"
    }
   ],
   "source": [
    "# print columns in austin_listings\n",
    "austin_listings.columns"
   ]
  },
  {
   "cell_type": "code",
   "execution_count": 34,
   "metadata": {},
   "outputs": [],
   "source": [
    "# predictors to include for predicting Superhost status\n",
    "regex_arg = 'host|price|minimum|maximum|available|room_type|accommodates|bath|bed|calculated|dist|Multi|length'\n",
    "host_cols = austin_listings.filter(regex=regex_arg).columns.tolist()"
   ]
  },
  {
   "cell_type": "code",
   "execution_count": 35,
   "metadata": {},
   "outputs": [],
   "source": [
    "# predictors to exclude\n",
    "host_cols_remove = ['host_name', 'host_since', 'host_location', 'host_about','host_verifications','minimum_minimum_nights',\n",
    "                    'maximum_minimum_nights','minimum_maximum_nights','maximum_maximum_nights','minimum_nights_avg_ntm',\n",
    "                    'maximum_nights_avg_ntm','host_neighbourhood', 'host_listings_count', 'host_total_listings_count', \n",
    "                    'bathrooms_text', 'bathrooms', 'number_of_reviews_ltm', 'number_of_reviews_l30d', \n",
    "                    'calculated_host_listings_count_entire_homes', 'calculated_host_listings_count_private_rooms', \n",
    "                    'calculated_host_listings_count_shared_rooms']\n",
    "host_cols = [x for x in host_cols if x not in host_cols_remove]"
   ]
  },
  {
   "cell_type": "code",
   "execution_count": 36,
   "metadata": {},
   "outputs": [],
   "source": [
    "# filter out predictors\n",
    "host_data = austin_listings.filter(host_cols)"
   ]
  },
  {
   "cell_type": "markdown",
   "metadata": {},
   "source": [
    "#### Drop rows with missing Superhost status"
   ]
  },
  {
   "cell_type": "code",
   "execution_count": 37,
   "metadata": {},
   "outputs": [],
   "source": [
    "# drop rows with missing values for Superhost status. If we left any missing values here, our model would throw an error. \n",
    "host_data = host_data.dropna(subset=['host_is_superhost'])"
   ]
  },
  {
   "cell_type": "markdown",
   "metadata": {},
   "source": [
    "#### One-hot encode categorical predictors"
   ]
  },
  {
   "cell_type": "code",
   "execution_count": 38,
   "metadata": {},
   "outputs": [],
   "source": [
    "# code categorical variables as dummy variables\n",
    "host_data_dummy = pd.get_dummies(host_data, drop_first=True, dummy_na=True)"
   ]
  },
  {
   "cell_type": "markdown",
   "metadata": {},
   "source": [
    "#### Drop predictors with zero/low variability"
   ]
  },
  {
   "cell_type": "markdown",
   "metadata": {},
   "source": [
    "I dropped predictors with sample standard deviation less than 0.1 since these are less likely to have predictive power. "
   ]
  },
  {
   "cell_type": "code",
   "execution_count": 39,
   "metadata": {},
   "outputs": [],
   "source": [
    "# drop predictors with zero/low variability\n",
    "cols_to_drop = host_data_dummy.var()[host_data_dummy.std() < .1].index.tolist()\n",
    "host_data_dummy = host_data_dummy.drop(columns=cols_to_drop)"
   ]
  },
  {
   "cell_type": "code",
   "execution_count": 40,
   "metadata": {},
   "outputs": [],
   "source": [
    "#convert dummy cols to bool\n",
    "cols_to_bool = host_data_dummy.dtypes[host_data_dummy.dtypes == 'uint8'].index.tolist()\n",
    "host_data_dummy[cols_to_bool] = host_data_dummy[cols_to_bool].astype('bool')\n",
    "bool_cols = host_data_dummy.dtypes[host_data_dummy.dtypes == 'bool'].index.tolist()"
   ]
  },
  {
   "cell_type": "markdown",
   "metadata": {},
   "source": [
    "#### Collapse data to include only one row for each host"
   ]
  },
  {
   "cell_type": "markdown",
   "metadata": {},
   "source": [
    "For hosts with multiple listings, I grouped the data by host_id and took the mean for each predictor. I did this so that the data would consist of one row per host. "
   ]
  },
  {
   "cell_type": "code",
   "execution_count": 41,
   "metadata": {},
   "outputs": [],
   "source": [
    "# group by host_id and compute mean\n",
    "host_data_dummy2 = host_data_dummy.groupby('host_id').mean().reset_index()\n",
    "host_data_dummy2 = host_data_dummy2.drop(columns=['host_id'])\n",
    "host_data_dummy2[bool_cols] = host_data_dummy2[bool_cols].astype('bool')"
   ]
  },
  {
   "cell_type": "code",
   "execution_count": 42,
   "metadata": {},
   "outputs": [
    {
     "name": "stdout",
     "output_type": "stream",
     "text": [
      "<class 'pandas.core.frame.DataFrame'>\n",
      "RangeIndex: 6804 entries, 0 to 6803\n",
      "Data columns (total 30 columns):\n",
      " #   Column                                 Non-Null Count  Dtype  \n",
      "---  ------                                 --------------  -----  \n",
      " 0   host_response_rate                     3090 non-null   float64\n",
      " 1   host_acceptance_rate                   3843 non-null   float64\n",
      " 2   accommodates                           6804 non-null   float64\n",
      " 3   bedrooms                               6440 non-null   float64\n",
      " 4   beds                                   6762 non-null   float64\n",
      " 5   price                                  6804 non-null   float64\n",
      " 6   minimum_nights                         6804 non-null   float64\n",
      " 7   maximum_nights                         6804 non-null   float64\n",
      " 8   calculated_host_listings_count         6804 non-null   float64\n",
      " 9   dist_from_downtown                     6804 non-null   float64\n",
      " 10  host_yrs                               6804 non-null   float64\n",
      " 11  Multi_listing                          6804 non-null   bool   \n",
      " 12  description_length                     6804 non-null   float64\n",
      " 13  neighborhood_overview_length           6804 non-null   float64\n",
      " 14  amenities_length                       6804 non-null   float64\n",
      " 15  available_perc                         6804 non-null   float64\n",
      " 16  host_response_time_within a day        6804 non-null   bool   \n",
      " 17  host_response_time_within a few hours  6804 non-null   bool   \n",
      " 18  host_response_time_within an hour      6804 non-null   bool   \n",
      " 19  host_response_time_nan                 6804 non-null   bool   \n",
      " 20  host_is_superhost_True                 6804 non-null   bool   \n",
      " 21  host_identity_verified_True            6804 non-null   bool   \n",
      " 22  room_type_Private room                 6804 non-null   bool   \n",
      " 23  room_type_Shared room                  6804 non-null   bool   \n",
      " 24  host_yrs_cat_(3, 5]                    6804 non-null   bool   \n",
      " 25  host_yrs_cat_(5, 7]                    6804 non-null   bool   \n",
      " 26  host_yrs_cat_(7, 9]                    6804 non-null   bool   \n",
      " 27  host_yrs_cat_(9, 11]                   6804 non-null   bool   \n",
      " 28  bathrooms_cat_2-4                      6804 non-null   bool   \n",
      " 29  bathrooms_cat_> 4                      6804 non-null   bool   \n",
      "dtypes: bool(15), float64(15)\n",
      "memory usage: 897.1 KB\n"
     ]
    }
   ],
   "source": [
    "host_data_dummy2.info()"
   ]
  },
  {
   "cell_type": "markdown",
   "metadata": {},
   "source": [
    "#### Plot columns with missing values\n",
    "The figure below shows the columns with missing values. Host response rate and host acceptance rate have a little over 50% and 40% of measurements missing, respectively. These are relatively high numbers but not high enough to warrant dropping completely. Bedrooms have less than 10% missing values and beds have under 5%. We will use a multivariate imputation method to impute missing values. "
   ]
  },
  {
   "cell_type": "code",
   "execution_count": 43,
   "metadata": {},
   "outputs": [
    {
     "data": {
      "image/png": "[encoded data removed]",
      "text/plain": [
       "<Figure size 504x288 with 1 Axes>"
      ]
     },
     "metadata": {
      "needs_background": "light"
     },
     "output_type": "display_data"
    }
   ],
   "source": [
    "# Predictors with missing values\n",
    "na_percent = (host_data_dummy2.isnull().sum()/host_data_dummy2.shape[0]).reset_index()\n",
    "na_percent = na_percent.rename(columns={'index':'predictor',0:'percent'}).sort_values('percent', ascending=False)\n",
    "na_percent['percent'] = na_percent.percent*100\n",
    "g=sns.catplot(data=na_percent[na_percent.percent > 0], x='predictor', y='percent', kind='bar', height = 4, aspect=1.75)\n",
    "g.set(xlabel = '', ylabel='% NA');"
   ]
  },
  {
   "cell_type": "markdown",
   "metadata": {},
   "source": [
    "#### Convert data to numpy arrays for compatibility with sklearn"
   ]
  },
  {
   "cell_type": "markdown",
   "metadata": {},
   "source": [
    "I split data into predictors (X) and Superhost status column (y) and converted them into numpy arrays for compatibility with sklearn. "
   ]
  },
  {
   "cell_type": "code",
   "execution_count": 44,
   "metadata": {},
   "outputs": [],
   "source": [
    "X_df = host_data_dummy2.drop(columns=['host_is_superhost_True'])\n",
    "\n",
    "# convert DataFrames to numpy arrays\n",
    "X = X_df.to_numpy()\n",
    "y = host_data_dummy2['host_is_superhost_True'].to_numpy()"
   ]
  },
  {
   "cell_type": "markdown",
   "metadata": {},
   "source": [
    "#### 5-fold CV - Random Forest classification\n",
    "I decided to use scikit-learn's Random Forest classifier since it is not limited to a linear decision boundary and has some nice properties that combat overfitting. It also has a built in feature importance ranking, which is useful for our purposes. I used a multivariate imputation method from scikit-learn, IterativeImputer, to impute missing values. I made sure to perform the imputation using the training folds each time to protect against data leakage from the test folds. I used accuracy and AUC (area under the ROC curve) to measure performance of the model. "
   ]
  },
  {
   "cell_type": "code",
   "execution_count": 45,
   "metadata": {},
   "outputs": [],
   "source": [
    "# instantiate multivariate imputer\n",
    "imp = IterativeImputer(max_iter=100, random_state=0)"
   ]
  },
  {
   "cell_type": "code",
   "execution_count": 46,
   "metadata": {},
   "outputs": [],
   "source": [
    "# instantiate 5-fold CV and get splits\n",
    "kf = KFold(n_splits=5)\n",
    "kf.get_n_splits(X)\n",
    "\n",
    "# create empty performance metric lists\n",
    "class_report = []\n",
    "auc = []\n",
    "for train_index, test_index in kf.split(X):\n",
    "    # split into training and test sets\n",
    "    X_train, X_test = X[train_index], X[test_index]\n",
    "    y_train, y_test = y[train_index], y[test_index]\n",
    "    \n",
    "    # fit multivariate imputation on training data\n",
    "    imp.fit(X_train)\n",
    "    \n",
    "    # impute missing values on training data\n",
    "    X_train = imp.transform(X_train)\n",
    "    \n",
    "    # impute missing values on test data using trained imputer on training data\n",
    "    X_test = imp.transform(X_test)\n",
    "    \n",
    "    # Random Forest model\n",
    "    rfor_reg = RandomForestClassifier(random_state=0).fit(X_train, y_train)\n",
    "    \n",
    "    # predict class\n",
    "    y_pred = rfor_reg.predict(X_test)\n",
    "    \n",
    "    # predict class probabilities\n",
    "    y_pred_probs = rfor_reg.predict_proba(X_test)[:,1]\n",
    "    \n",
    "    # performance metrics\n",
    "    class_report.append(classification_report(y_test, y_pred, output_dict=True))\n",
    "    auc.append(roc_auc_score(y_test, y_pred_probs))"
   ]
  },
  {
   "cell_type": "markdown",
   "metadata": {},
   "source": [
    "# Section IV: Evaluate Results"
   ]
  },
  {
   "cell_type": "code",
   "execution_count": 47,
   "metadata": {},
   "outputs": [],
   "source": [
    "# get accuracy from class_report\n",
    "accuracy = [class_report[x]['accuracy'] for x in range(len(class_report))]\n",
    "\n",
    "# average accuracy and auc over the 5 folds\n",
    "mean_accuracy = np.mean(accuracy)\n",
    "mean_auc = np.mean(auc)"
   ]
  },
  {
   "cell_type": "markdown",
   "metadata": {},
   "source": [
    "#### Impute missing values on full dataset and fit final model"
   ]
  },
  {
   "cell_type": "code",
   "execution_count": 48,
   "metadata": {},
   "outputs": [],
   "source": [
    "# fit final model on all training data\n",
    "imp.fit(X)\n",
    "X_new = imp.transform(X)\n",
    "rfor_reg = RandomForestClassifier(max_features='sqrt',random_state=0).fit(X_new, y)"
   ]
  },
  {
   "cell_type": "markdown",
   "metadata": {},
   "source": [
    "#### Calculate feature importance and plot ranked features\n",
    "The figure below shows the features ranked by importance, which was computed using the built in impurity based metric in scikit-learn's Random Forest classifier. "
   ]
  },
  {
   "cell_type": "code",
   "execution_count": 49,
   "metadata": {},
   "outputs": [],
   "source": [
    "# sort and features by importance\n",
    "ranked_idx = (-rfor_reg.feature_importances_).argsort()\n",
    "ranked_predictors = pd.DataFrame(rfor_reg.feature_importances_[ranked_idx].reshape(1,29), columns=X_df.iloc[:,ranked_idx].columns)\n",
    "ranked_predictors = ranked_predictors.transpose().reset_index().rename(columns={'index':'predictor',0:'importance'})"
   ]
  },
  {
   "cell_type": "code",
   "execution_count": 50,
   "metadata": {},
   "outputs": [
    {
     "data": {
      "image/png": "[encoded data removed]",
      "text/plain": [
       "<Figure size 718.2x410.4 with 1 Axes>"
      ]
     },
     "metadata": {
      "needs_background": "light"
     },
     "output_type": "display_data"
    }
   ],
   "source": [
    "g=sns.catplot(data=ranked_predictors, x='importance', y='predictor', kind='bar', color='#3c3cc2', height= 5.7, aspect=1.75)\n",
    "g.set(ylabel = '');"
   ]
  },
  {
   "cell_type": "markdown",
   "metadata": {},
   "source": [
    "Looking at the top predictors, I think there is some valuable insight to gain a competitive edge. I will focus on things that are directly in the host's control since obviously not everything is. For example, a host can't control how large the home is or where it's located. \n",
    "\n",
    "Below I plot average measures for 6 of the top 8 predictors, grouped by Superhost status. \n",
    "1. Host acceptance rate\n",
    "2. Number of amenities offered\n",
    "3. Host response rate\n",
    "4. Neighborhood description\n",
    "5. Listing description\n",
    "6. Listing price."
   ]
  },
  {
   "cell_type": "code",
   "execution_count": 51,
   "metadata": {},
   "outputs": [],
   "source": [
    "host_data.host_acceptance_rate = host_data.host_acceptance_rate*100\n",
    "host_data.host_response_rate = host_data.host_response_rate*100"
   ]
  },
  {
   "cell_type": "code",
   "execution_count": 52,
   "metadata": {},
   "outputs": [
    {
     "data": {
      "image/png": "[encoded data removed]",
      "text/plain": [
       "<Figure size 1224x720 with 6 Axes>"
      ]
     },
     "metadata": {
      "needs_background": "light"
     },
     "output_type": "display_data"
    }
   ],
   "source": [
    "fig, ax = plt.subplots(2, 3, sharey=False, figsize=(17,10))\n",
    "sns.barplot(data=host_data, x='host_is_superhost', y='host_acceptance_rate', ax=ax[0,0])\n",
    "sns.barplot(data=host_data, x='host_is_superhost', y='host_response_rate', ax=ax[0,1])\n",
    "sns.barplot(data=host_data, x='host_is_superhost', y='price', ax=ax[0,2])\n",
    "sns.barplot(data=host_data, x='host_is_superhost', y='amenities_length', ax=ax[1,0])\n",
    "sns.barplot(data=host_data, x='host_is_superhost', y='neighborhood_overview_length', ax=ax[1,1])\n",
    "sns.barplot(data=host_data, x='host_is_superhost', y='description_length', ax=ax[1,2])\n",
    "ax[0,0].set_title('Host Acceptance Rate')\n",
    "ax[0,1].set_title('Host Response Rate')\n",
    "ax[0,2].set_title('Listing Price')\n",
    "ax[1,0].set_title('Number of Amenities')\n",
    "ax[1,1].set_title('Neighborhood Description Length')\n",
    "ax[1,2].set_title('Listing Description Length')\n",
    "ax[0,0].set(xlabel='',ylabel='')\n",
    "ax[0,1].set(xlabel='',ylabel='')\n",
    "ax[0,2].set(xlabel='',ylabel='')\n",
    "ax[1,0].set(xlabel='',ylabel='')\n",
    "ax[1,1].set(xlabel='',ylabel='')\n",
    "ax[1,2].set(xlabel='',ylabel='')\n",
    "ax[1,0].set(ylabel='')\n",
    "ax[1,1].set(ylabel='')\n",
    "ax[1,2].set(ylabel='')\n",
    "ax[0,0].set_xticklabels(['Not Superhost', 'Superhost'])\n",
    "ax[0,1].set_xticklabels(['Not Superhost', 'Superhost'])\n",
    "ax[0,2].set_xticklabels(['Not Superhost', 'Superhost'])\n",
    "ax[1,0].set_xticklabels(['Not Superhost', 'Superhost'])\n",
    "ax[1,1].set_xticklabels(['Not Superhost', 'Superhost'])\n",
    "ax[1,2].set_xticklabels(['Not Superhost', 'Superhost']);"
   ]
  },
  {
   "cell_type": "code",
   "execution_count": null,
   "metadata": {},
   "outputs": [],
   "source": []
  }
 ],
 "metadata": {
  "kernelspec": {
   "display_name": "Python 3",
   "language": "python",
   "name": "python3"
  },
  "language_info": {
   "codemirror_mode": {
    "name": "ipython",
    "version": 3
   },
   "file_extension": ".py",
   "mimetype": "text/x-python",
   "name": "python",
   "nbconvert_exporter": "python",
   "pygments_lexer": "ipython3",
   "version": "3.8.3"
  }
 },
 "nbformat": 4,
 "nbformat_minor": 4
}
